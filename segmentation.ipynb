{
 "cells": [
  {
   "cell_type": "code",
   "execution_count": 1,
   "id": "ee09f912",
   "metadata": {},
   "outputs": [
    {
     "name": "stdout",
     "output_type": "stream",
     "text": [
      "Requirement already satisfied: pywavelets in c:\\users\\simmi\\anaconda3\\lib\\site-packages (1.1.1)\n",
      "Requirement already satisfied: numpy>=1.13.3 in c:\\users\\simmi\\anaconda3\\lib\\site-packages (from pywavelets) (1.20.1)\n"
     ]
    }
   ],
   "source": [
    "!pip install pywavelets"
   ]
  },
  {
   "cell_type": "code",
   "execution_count": 2,
   "id": "bb6ee8ca",
   "metadata": {},
   "outputs": [
    {
     "name": "stdout",
     "output_type": "stream",
     "text": [
      "Collecting sklearn\n",
      "  Downloading sklearn-0.0.tar.gz (1.1 kB)\n",
      "Requirement already satisfied: scikit-learn in c:\\users\\simmi\\anaconda3\\lib\\site-packages (from sklearn) (0.24.1)\n",
      "Requirement already satisfied: scipy>=0.19.1 in c:\\users\\simmi\\anaconda3\\lib\\site-packages (from scikit-learn->sklearn) (1.6.2)\n",
      "Requirement already satisfied: joblib>=0.11 in c:\\users\\simmi\\anaconda3\\lib\\site-packages (from scikit-learn->sklearn) (1.0.1)\n",
      "Requirement already satisfied: numpy>=1.13.3 in c:\\users\\simmi\\anaconda3\\lib\\site-packages (from scikit-learn->sklearn) (1.20.1)\n",
      "Requirement already satisfied: threadpoolctl>=2.0.0 in c:\\users\\simmi\\anaconda3\\lib\\site-packages (from scikit-learn->sklearn) (2.1.0)\n",
      "Building wheels for collected packages: sklearn\n",
      "  Building wheel for sklearn (setup.py): started\n",
      "  Building wheel for sklearn (setup.py): finished with status 'done'\n",
      "  Created wheel for sklearn: filename=sklearn-0.0-py2.py3-none-any.whl size=1316 sha256=33ba7ed325fea11ea8c5f6f53c24f4c05fb9962dd7d9fa495c2d2100d69117b7\n",
      "  Stored in directory: c:\\users\\simmi\\appdata\\local\\pip\\cache\\wheels\\22\\0b\\40\\fd3f795caaa1fb4c6cb738bc1f56100be1e57da95849bfc897\n",
      "Successfully built sklearn\n",
      "Installing collected packages: sklearn\n",
      "Successfully installed sklearn-0.0\n"
     ]
    }
   ],
   "source": [
    "!pip install sklearn"
   ]
  },
  {
   "cell_type": "code",
   "execution_count": 12,
   "id": "31b9e5e2",
   "metadata": {},
   "outputs": [
    {
     "name": "stdout",
     "output_type": "stream",
     "text": [
      "Requirement already satisfied: pywavelets in c:\\users\\simmi\\anaconda3\\lib\\site-packages (1.1.1)\n",
      "Requirement already satisfied: numpy>=1.13.3 in c:\\users\\simmi\\anaconda3\\lib\\site-packages (from pywavelets) (1.20.1)\n",
      "Requirement already satisfied: sklearn in c:\\users\\simmi\\anaconda3\\lib\\site-packages (0.0)\n",
      "Requirement already satisfied: scikit-learn in c:\\users\\simmi\\anaconda3\\lib\\site-packages (from sklearn) (0.24.1)\n",
      "Requirement already satisfied: scipy>=0.19.1 in c:\\users\\simmi\\anaconda3\\lib\\site-packages (from scikit-learn->sklearn) (1.6.2)\n",
      "Requirement already satisfied: threadpoolctl>=2.0.0 in c:\\users\\simmi\\anaconda3\\lib\\site-packages (from scikit-learn->sklearn) (2.1.0)\n",
      "Requirement already satisfied: numpy>=1.13.3 in c:\\users\\simmi\\anaconda3\\lib\\site-packages (from scikit-learn->sklearn) (1.20.1)\n",
      "Requirement already satisfied: joblib>=0.11 in c:\\users\\simmi\\anaconda3\\lib\\site-packages (from scikit-learn->sklearn) (1.0.1)\n",
      "Requirement already satisfied: scikit-learn in c:\\users\\simmi\\anaconda3\\lib\\site-packages (0.24.1)\n",
      "Requirement already satisfied: scipy>=0.19.1 in c:\\users\\simmi\\anaconda3\\lib\\site-packages (from scikit-learn) (1.6.2)\n",
      "Requirement already satisfied: threadpoolctl>=2.0.0 in c:\\users\\simmi\\anaconda3\\lib\\site-packages (from scikit-learn) (2.1.0)\n",
      "Requirement already satisfied: joblib>=0.11 in c:\\users\\simmi\\anaconda3\\lib\\site-packages (from scikit-learn) (1.0.1)\n",
      "Requirement already satisfied: numpy>=1.13.3 in c:\\users\\simmi\\anaconda3\\lib\\site-packages (from scikit-learn) (1.20.1)\n"
     ]
    },
    {
     "ename": "ModuleNotFoundError",
     "evalue": "No module named 'features'",
     "output_type": "error",
     "traceback": [
      "\u001b[1;31m---------------------------------------------------------------------------\u001b[0m",
      "\u001b[1;31mModuleNotFoundError\u001b[0m                       Traceback (most recent call last)",
      "\u001b[1;32m<ipython-input-12-adb879a9d766>\u001b[0m in \u001b[0;36m<module>\u001b[1;34m\u001b[0m\n\u001b[0;32m      3\u001b[0m \u001b[1;32mfrom\u001b[0m \u001b[0mpylab\u001b[0m \u001b[1;32mimport\u001b[0m \u001b[1;33m*\u001b[0m\u001b[1;33m\u001b[0m\u001b[1;33m\u001b[0m\u001b[0m\n\u001b[0;32m      4\u001b[0m \u001b[1;32mfrom\u001b[0m \u001b[0mpreprocessing\u001b[0m \u001b[1;32mimport\u001b[0m \u001b[0mget_preprocessed_data\u001b[0m\u001b[1;33m,\u001b[0m \u001b[0mget_test_data\u001b[0m\u001b[1;33m\u001b[0m\u001b[1;33m\u001b[0m\u001b[0m\n\u001b[1;32m----> 5\u001b[1;33m \u001b[1;32mfrom\u001b[0m \u001b[0mfeatures\u001b[0m \u001b[1;32mimport\u001b[0m \u001b[0mfind_peaks\u001b[0m\u001b[1;33m\u001b[0m\u001b[1;33m\u001b[0m\u001b[0m\n\u001b[0m\u001b[0;32m      6\u001b[0m \u001b[1;32mimport\u001b[0m \u001b[0maudioFeatureExtraction\u001b[0m\u001b[1;33m\u001b[0m\u001b[1;33m\u001b[0m\u001b[0m\n",
      "\u001b[1;31mModuleNotFoundError\u001b[0m: No module named 'features'"
     ]
    }
   ],
   "source": [
    "# imports\n",
    "import numpy as np\n",
    "from pylab import *\n",
    "from preprocessing import get_preprocessed_data, get_test_data\n",
    "from features import find_peaks\n",
    "import audioFeatureExtraction"
   ]
  },
  {
   "cell_type": "code",
   "execution_count": 14,
   "id": "5f59a4c5",
   "metadata": {},
   "outputs": [
    {
     "name": "stderr",
     "output_type": "stream",
     "text": [
      "C:\\Users\\simmi\\Downloads\\project 1111\\preprocessing.py:116: VisibleDeprecationWarning: Creating an ndarray from ragged nested sequences (which is a list-or-tuple of lists-or-tuples-or ndarrays with different lengths or shapes) is deprecated. If you meant to do this, you must specify 'dtype=object' when creating the ndarray.\n",
      "  return np.array(raw_data)\n",
      "C:\\Users\\simmi\\Downloads\\project 1111\\preprocessing.py:146: VisibleDeprecationWarning: Creating an ndarray from ragged nested sequences (which is a list-or-tuple of lists-or-tuples-or ndarrays with different lengths or shapes) is deprecated. If you meant to do this, you must specify 'dtype=object' when creating the ndarray.\n",
      "  x_data = np.array([down_sample(sample, factor=factor) for sample in raw_data]) #downsample\n",
      "C:\\Users\\simmi\\Downloads\\project 1111\\preprocessing.py:147: VisibleDeprecationWarning: Creating an ndarray from ragged nested sequences (which is a list-or-tuple of lists-or-tuples-or ndarrays with different lengths or shapes) is deprecated. If you meant to do this, you must specify 'dtype=object' when creating the ndarray.\n",
      "  x_data = np.array([pywt.dwt(x,'db4')[0] for x in x_data]) #wavelet decomposition\n"
     ]
    },
    {
     "ename": "FileNotFoundError",
     "evalue": "[Errno 2] No such file or directory: 'set_b/murmur_Btraining_noisymurmur_135_1306428972976_A.wav'",
     "output_type": "error",
     "traceback": [
      "\u001b[1;31m---------------------------------------------------------------------------\u001b[0m",
      "\u001b[1;31mFileNotFoundError\u001b[0m                         Traceback (most recent call last)",
      "\u001b[1;32m<ipython-input-14-7488b6d73a23>\u001b[0m in \u001b[0;36m<module>\u001b[1;34m\u001b[0m\n\u001b[0;32m      1\u001b[0m \u001b[0mx_dataA\u001b[0m\u001b[1;33m,\u001b[0m \u001b[0my_labelA\u001b[0m\u001b[1;33m,\u001b[0m \u001b[0mframerate_A\u001b[0m \u001b[1;33m=\u001b[0m \u001b[0mget_preprocessed_data\u001b[0m\u001b[1;33m(\u001b[0m\u001b[1;34m'A'\u001b[0m\u001b[1;33m,\u001b[0m \u001b[0mN\u001b[0m\u001b[1;33m=\u001b[0m\u001b[1;36m2\u001b[0m\u001b[1;33m,\u001b[0m \u001b[0mfactor\u001b[0m\u001b[1;33m=\u001b[0m\u001b[1;36m5\u001b[0m\u001b[1;33m)\u001b[0m\u001b[1;33m\u001b[0m\u001b[1;33m\u001b[0m\u001b[0m\n\u001b[0;32m      2\u001b[0m \u001b[1;33m\u001b[0m\u001b[0m\n\u001b[1;32m----> 3\u001b[1;33m \u001b[0mx_dataB\u001b[0m\u001b[1;33m,\u001b[0m \u001b[0my_labelB\u001b[0m\u001b[1;33m,\u001b[0m \u001b[0mframerate_B\u001b[0m \u001b[1;33m=\u001b[0m \u001b[0mget_preprocessed_data\u001b[0m\u001b[1;33m(\u001b[0m\u001b[1;34m'B'\u001b[0m\u001b[1;33m,\u001b[0m \u001b[0mN\u001b[0m\u001b[1;33m=\u001b[0m\u001b[1;36m2\u001b[0m\u001b[1;33m,\u001b[0m \u001b[0mfactor\u001b[0m\u001b[1;33m=\u001b[0m\u001b[1;36m1\u001b[0m\u001b[1;33m)\u001b[0m\u001b[1;33m\u001b[0m\u001b[1;33m\u001b[0m\u001b[0m\n\u001b[0m",
      "\u001b[1;32m~\\Downloads\\project 1111\\preprocessing.py\u001b[0m in \u001b[0;36mget_preprocessed_data\u001b[1;34m(set_name, N, factor)\u001b[0m\n\u001b[0;32m    142\u001b[0m                 \u001b[0mfilenames\u001b[0m\u001b[1;33m,\u001b[0m \u001b[0my_label\u001b[0m\u001b[1;33m,\u001b[0m \u001b[0mframerates\u001b[0m \u001b[1;33m=\u001b[0m \u001b[0mget_setA_file_label\u001b[0m\u001b[1;33m(\u001b[0m\u001b[0mN\u001b[0m\u001b[1;33m)\u001b[0m\u001b[1;33m\u001b[0m\u001b[1;33m\u001b[0m\u001b[0m\n\u001b[0;32m    143\u001b[0m         \u001b[1;32melse\u001b[0m\u001b[1;33m:\u001b[0m\u001b[1;33m\u001b[0m\u001b[1;33m\u001b[0m\u001b[0m\n\u001b[1;32m--> 144\u001b[1;33m                 \u001b[0mfilenames\u001b[0m\u001b[1;33m,\u001b[0m \u001b[0my_label\u001b[0m\u001b[1;33m,\u001b[0m \u001b[0mframerates\u001b[0m \u001b[1;33m=\u001b[0m \u001b[0mget_setB_file_label\u001b[0m\u001b[1;33m(\u001b[0m\u001b[0mN\u001b[0m\u001b[1;33m)\u001b[0m\u001b[1;33m\u001b[0m\u001b[1;33m\u001b[0m\u001b[0m\n\u001b[0m\u001b[0;32m    145\u001b[0m         \u001b[0mraw_data\u001b[0m \u001b[1;33m=\u001b[0m \u001b[0mget_raw_data\u001b[0m\u001b[1;33m(\u001b[0m\u001b[0mfilenames\u001b[0m\u001b[1;33m)\u001b[0m \u001b[1;31m#get raw sound data\u001b[0m\u001b[1;33m\u001b[0m\u001b[1;33m\u001b[0m\u001b[0m\n\u001b[0;32m    146\u001b[0m         \u001b[0mx_data\u001b[0m \u001b[1;33m=\u001b[0m \u001b[0mnp\u001b[0m\u001b[1;33m.\u001b[0m\u001b[0marray\u001b[0m\u001b[1;33m(\u001b[0m\u001b[1;33m[\u001b[0m\u001b[0mdown_sample\u001b[0m\u001b[1;33m(\u001b[0m\u001b[0msample\u001b[0m\u001b[1;33m,\u001b[0m \u001b[0mfactor\u001b[0m\u001b[1;33m=\u001b[0m\u001b[0mfactor\u001b[0m\u001b[1;33m)\u001b[0m \u001b[1;32mfor\u001b[0m \u001b[0msample\u001b[0m \u001b[1;32min\u001b[0m \u001b[0mraw_data\u001b[0m\u001b[1;33m]\u001b[0m\u001b[1;33m)\u001b[0m \u001b[1;31m#downsample\u001b[0m\u001b[1;33m\u001b[0m\u001b[1;33m\u001b[0m\u001b[0m\n",
      "\u001b[1;32m~\\Downloads\\project 1111\\preprocessing.py\u001b[0m in \u001b[0;36mget_setB_file_label\u001b[1;34m(N)\u001b[0m\n\u001b[0;32m     95\u001b[0m                                                 \u001b[0mnew_fname\u001b[0m \u001b[1;33m+=\u001b[0m \u001b[1;34m'_'\u001b[0m\u001b[1;33m\u001b[0m\u001b[1;33m\u001b[0m\u001b[0m\n\u001b[0;32m     96\u001b[0m                                         \u001b[0mcount\u001b[0m \u001b[1;33m+=\u001b[0m \u001b[1;36m1\u001b[0m\u001b[1;33m\u001b[0m\u001b[1;33m\u001b[0m\u001b[0m\n\u001b[1;32m---> 97\u001b[1;33m                         \u001b[1;32mif\u001b[0m \u001b[0mmoreNsecs\u001b[0m\u001b[1;33m(\u001b[0m\u001b[0mnew_fname\u001b[0m\u001b[1;33m,\u001b[0m\u001b[1;36m2\u001b[0m\u001b[1;33m)\u001b[0m\u001b[1;33m:\u001b[0m\u001b[1;33m\u001b[0m\u001b[1;33m\u001b[0m\u001b[0m\n\u001b[0m\u001b[0;32m     98\u001b[0m                                 \u001b[0mx_trainBFile\u001b[0m\u001b[1;33m.\u001b[0m\u001b[0mappend\u001b[0m\u001b[1;33m(\u001b[0m\u001b[0mnew_fname\u001b[0m\u001b[1;33m)\u001b[0m\u001b[1;33m\u001b[0m\u001b[1;33m\u001b[0m\u001b[0m\n\u001b[0;32m     99\u001b[0m                                 \u001b[0my_trainB\u001b[0m\u001b[1;33m.\u001b[0m\u001b[0mappend\u001b[0m\u001b[1;33m(\u001b[0m\u001b[0mrow\u001b[0m\u001b[1;33m[\u001b[0m\u001b[1;36m2\u001b[0m\u001b[1;33m]\u001b[0m\u001b[1;33m)\u001b[0m\u001b[1;33m\u001b[0m\u001b[1;33m\u001b[0m\u001b[0m\n",
      "\u001b[1;32m~\\Downloads\\project 1111\\preprocessing.py\u001b[0m in \u001b[0;36mmoreNsecs\u001b[1;34m(file, N)\u001b[0m\n\u001b[0;32m     32\u001b[0m         \u001b[1;34m\"\"\"Ignores all entries that are less than N seconds\"\"\"\u001b[0m\u001b[1;33m\u001b[0m\u001b[1;33m\u001b[0m\u001b[0m\n\u001b[0;32m     33\u001b[0m \u001b[1;33m\u001b[0m\u001b[0m\n\u001b[1;32m---> 34\u001b[1;33m         \u001b[0mf\u001b[0m \u001b[1;33m=\u001b[0m \u001b[0mwave\u001b[0m\u001b[1;33m.\u001b[0m\u001b[0mopen\u001b[0m\u001b[1;33m(\u001b[0m\u001b[0mfile\u001b[0m\u001b[1;33m)\u001b[0m\u001b[1;33m\u001b[0m\u001b[1;33m\u001b[0m\u001b[0m\n\u001b[0m\u001b[0;32m     35\u001b[0m         \u001b[0mframes\u001b[0m \u001b[1;33m=\u001b[0m \u001b[0mf\u001b[0m\u001b[1;33m.\u001b[0m\u001b[0mreadframes\u001b[0m\u001b[1;33m(\u001b[0m\u001b[1;33m-\u001b[0m\u001b[1;36m1\u001b[0m\u001b[1;33m)\u001b[0m\u001b[1;33m\u001b[0m\u001b[1;33m\u001b[0m\u001b[0m\n\u001b[0;32m     36\u001b[0m         \u001b[0msamples\u001b[0m \u001b[1;33m=\u001b[0m \u001b[0mstruct\u001b[0m\u001b[1;33m.\u001b[0m\u001b[0munpack\u001b[0m\u001b[1;33m(\u001b[0m\u001b[1;34m'h'\u001b[0m\u001b[1;33m*\u001b[0m\u001b[0mf\u001b[0m\u001b[1;33m.\u001b[0m\u001b[0mgetnframes\u001b[0m\u001b[1;33m(\u001b[0m\u001b[1;33m)\u001b[0m\u001b[1;33m,\u001b[0m \u001b[0mframes\u001b[0m\u001b[1;33m)\u001b[0m\u001b[1;33m\u001b[0m\u001b[1;33m\u001b[0m\u001b[0m\n",
      "\u001b[1;32m~\\anaconda3\\lib\\wave.py\u001b[0m in \u001b[0;36mopen\u001b[1;34m(f, mode)\u001b[0m\n\u001b[0;32m    508\u001b[0m             \u001b[0mmode\u001b[0m \u001b[1;33m=\u001b[0m \u001b[1;34m'rb'\u001b[0m\u001b[1;33m\u001b[0m\u001b[1;33m\u001b[0m\u001b[0m\n\u001b[0;32m    509\u001b[0m     \u001b[1;32mif\u001b[0m \u001b[0mmode\u001b[0m \u001b[1;32min\u001b[0m \u001b[1;33m(\u001b[0m\u001b[1;34m'r'\u001b[0m\u001b[1;33m,\u001b[0m \u001b[1;34m'rb'\u001b[0m\u001b[1;33m)\u001b[0m\u001b[1;33m:\u001b[0m\u001b[1;33m\u001b[0m\u001b[1;33m\u001b[0m\u001b[0m\n\u001b[1;32m--> 510\u001b[1;33m         \u001b[1;32mreturn\u001b[0m \u001b[0mWave_read\u001b[0m\u001b[1;33m(\u001b[0m\u001b[0mf\u001b[0m\u001b[1;33m)\u001b[0m\u001b[1;33m\u001b[0m\u001b[1;33m\u001b[0m\u001b[0m\n\u001b[0m\u001b[0;32m    511\u001b[0m     \u001b[1;32melif\u001b[0m \u001b[0mmode\u001b[0m \u001b[1;32min\u001b[0m \u001b[1;33m(\u001b[0m\u001b[1;34m'w'\u001b[0m\u001b[1;33m,\u001b[0m \u001b[1;34m'wb'\u001b[0m\u001b[1;33m)\u001b[0m\u001b[1;33m:\u001b[0m\u001b[1;33m\u001b[0m\u001b[1;33m\u001b[0m\u001b[0m\n\u001b[0;32m    512\u001b[0m         \u001b[1;32mreturn\u001b[0m \u001b[0mWave_write\u001b[0m\u001b[1;33m(\u001b[0m\u001b[0mf\u001b[0m\u001b[1;33m)\u001b[0m\u001b[1;33m\u001b[0m\u001b[1;33m\u001b[0m\u001b[0m\n",
      "\u001b[1;32m~\\anaconda3\\lib\\wave.py\u001b[0m in \u001b[0;36m__init__\u001b[1;34m(self, f)\u001b[0m\n\u001b[0;32m    158\u001b[0m         \u001b[0mself\u001b[0m\u001b[1;33m.\u001b[0m\u001b[0m_i_opened_the_file\u001b[0m \u001b[1;33m=\u001b[0m \u001b[1;32mNone\u001b[0m\u001b[1;33m\u001b[0m\u001b[1;33m\u001b[0m\u001b[0m\n\u001b[0;32m    159\u001b[0m         \u001b[1;32mif\u001b[0m \u001b[0misinstance\u001b[0m\u001b[1;33m(\u001b[0m\u001b[0mf\u001b[0m\u001b[1;33m,\u001b[0m \u001b[0mstr\u001b[0m\u001b[1;33m)\u001b[0m\u001b[1;33m:\u001b[0m\u001b[1;33m\u001b[0m\u001b[1;33m\u001b[0m\u001b[0m\n\u001b[1;32m--> 160\u001b[1;33m             \u001b[0mf\u001b[0m \u001b[1;33m=\u001b[0m \u001b[0mbuiltins\u001b[0m\u001b[1;33m.\u001b[0m\u001b[0mopen\u001b[0m\u001b[1;33m(\u001b[0m\u001b[0mf\u001b[0m\u001b[1;33m,\u001b[0m \u001b[1;34m'rb'\u001b[0m\u001b[1;33m)\u001b[0m\u001b[1;33m\u001b[0m\u001b[1;33m\u001b[0m\u001b[0m\n\u001b[0m\u001b[0;32m    161\u001b[0m             \u001b[0mself\u001b[0m\u001b[1;33m.\u001b[0m\u001b[0m_i_opened_the_file\u001b[0m \u001b[1;33m=\u001b[0m \u001b[0mf\u001b[0m\u001b[1;33m\u001b[0m\u001b[1;33m\u001b[0m\u001b[0m\n\u001b[0;32m    162\u001b[0m         \u001b[1;31m# else, assume it is an open file object already\u001b[0m\u001b[1;33m\u001b[0m\u001b[1;33m\u001b[0m\u001b[1;33m\u001b[0m\u001b[0m\n",
      "\u001b[1;31mFileNotFoundError\u001b[0m: [Errno 2] No such file or directory: 'set_b/murmur_Btraining_noisymurmur_135_1306428972976_A.wav'"
     ]
    }
   ],
   "source": [
    "x_dataA, y_labelA, framerate_A = get_preprocessed_data('A', N=2, factor=5)\n",
    "\n",
    "x_dataB, y_labelB, framerate_B = get_preprocessed_data('B', N=2, factor=1)"
   ]
  },
  {
   "cell_type": "code",
   "execution_count": 3,
   "id": "f17bb8d8",
   "metadata": {},
   "outputs": [
    {
     "name": "stdout",
     "output_type": "stream",
     "text": [
      "Requirement already satisfied: scikit-learn in c:\\users\\simmi\\anaconda3\\lib\\site-packages (0.24.1)\n",
      "Requirement already satisfied: joblib>=0.11 in c:\\users\\simmi\\anaconda3\\lib\\site-packages (from scikit-learn) (1.0.1)\n",
      "Requirement already satisfied: numpy>=1.13.3 in c:\\users\\simmi\\anaconda3\\lib\\site-packages (from scikit-learn) (1.20.1)\n",
      "Requirement already satisfied: threadpoolctl>=2.0.0 in c:\\users\\simmi\\anaconda3\\lib\\site-packages (from scikit-learn) (2.1.0)\n",
      "Requirement already satisfied: scipy>=0.19.1 in c:\\users\\simmi\\anaconda3\\lib\\site-packages (from scikit-learn) (1.6.2)\n"
     ]
    }
   ],
   "source": [
    "!pip install scikit-learn"
   ]
  },
  {
   "cell_type": "code",
   "execution_count": null,
   "id": "22af4a37",
   "metadata": {},
   "outputs": [],
   "source": [
    "print(len(x_dataA))\n",
    "print(len(x_dataB[0]))"
   ]
  },
  {
   "cell_type": "code",
   "execution_count": 15,
   "id": "7a0e5877",
   "metadata": {},
   "outputs": [
    {
     "name": "stderr",
     "output_type": "stream",
     "text": [
      "C:\\Users\\simmi\\Downloads\\project 1111\\preprocessing.py:162: VisibleDeprecationWarning: Creating an ndarray from ragged nested sequences (which is a list-or-tuple of lists-or-tuples-or ndarrays with different lengths or shapes) is deprecated. If you meant to do this, you must specify 'dtype=object' when creating the ndarray.\n",
      "  x_data = np.array([down_sample(sample, factor=factor) for sample in raw_data]) #downsample\n",
      "C:\\Users\\simmi\\Downloads\\project 1111\\preprocessing.py:163: VisibleDeprecationWarning: Creating an ndarray from ragged nested sequences (which is a list-or-tuple of lists-or-tuples-or ndarrays with different lengths or shapes) is deprecated. If you meant to do this, you must specify 'dtype=object' when creating the ndarray.\n",
      "  x_data = np.array([pywt.dwt(x,'db4')[0] for x in x_data]) #wavelet decomposition\n",
      "C:\\Users\\simmi\\Downloads\\project 1111\\preprocessing.py:164: VisibleDeprecationWarning: Creating an ndarray from ragged nested sequences (which is a list-or-tuple of lists-or-tuples-or ndarrays with different lengths or shapes) is deprecated. If you meant to do this, you must specify 'dtype=object' when creating the ndarray.\n",
      "  x_data = np.array([x/max(np.abs(x)) for x in x_data]) #normalize all data\n",
      "<ipython-input-15-cbefb7ae10d7>:2: VisibleDeprecationWarning: Creating an ndarray from ragged nested sequences (which is a list-or-tuple of lists-or-tuples-or ndarrays with different lengths or shapes) is deprecated. If you meant to do this, you must specify 'dtype=object' when creating the ndarray.\n",
      "  x_testdataA = np.array([x[:len(x_dataA[0])] for x in x_testdataA])\n"
     ]
    }
   ],
   "source": [
    "x_testdataA = get_test_data('A')\n",
    "x_testdataA = np.array([x[:len(x_dataA[0])] for x in x_testdataA])\n"
   ]
  },
  {
   "cell_type": "code",
   "execution_count": 16,
   "id": "d68968be",
   "metadata": {},
   "outputs": [
    {
     "name": "stderr",
     "output_type": "stream",
     "text": [
      "<ipython-input-6-78253029c9a8>:43: VisibleDeprecationWarning: Creating an ndarray from ragged nested sequences (which is a list-or-tuple of lists-or-tuples-or ndarrays with different lengths or shapes) is deprecated. If you meant to do this, you must specify 'dtype=object' when creating the ndarray.\n",
      "  return np.array(all_peaks)\n"
     ]
    }
   ],
   "source": [
    "\n",
    "# get peaks for A\n",
    "dataA_peaks = find_peaks(x_dataA, 'A')\n",
    "testdataA_peaks = find_peaks(x_testdataA, 'A')"
   ]
  },
  {
   "cell_type": "code",
   "execution_count": 17,
   "id": "0cef3c92",
   "metadata": {},
   "outputs": [],
   "source": [
    "def get_S1S2_bounds(data, peaks, set_name):\n",
    "    #finding difference between all peaks in every file\n",
    "    all_diffs = []\n",
    "    for k in range(len(peaks)):\n",
    "        diff = np.diff(peaks[k])\n",
    "        all_diffs.append(diff)\n",
    "    \n",
    "    #finding max difference or diastole period\n",
    "    # and then labelling the first peak as s2 and second peak as s1\n",
    "    max_index = []\n",
    "    s1s2_peaks = []\n",
    "    for k in range(len(all_diffs)):\n",
    "        if any(all_diffs[k]):\n",
    "            max_index.append(np.argmax(all_diffs[k]))\n",
    "            s2 = peaks[k][max_index[k]]\n",
    "            s1 = peaks[k][max_index[k]+1]\n",
    "            s1s2_peaks.append([s1, s2])\n",
    "        else:\n",
    "            max_index.append(-1)\n",
    "            s1s2_peaks.append([-1,-1])\n",
    "    s1s2_peaks = np.array(s1s2_peaks)\n",
    "    \n",
    "    #defining s1 and s2 boundaries\n",
    "    s1_bounds = []\n",
    "    s2_bounds = []\n",
    "    if set_name == 'A':\n",
    "        upper_s1 = 200*2\n",
    "        lower_s1 = 80*2\n",
    "        upper_s2 = 600*2\n",
    "        lower_s2 = 70*2\n",
    "    else:\n",
    "        upper_s1 = 25*10 \n",
    "        lower_s1 = 10*10 \n",
    "        upper_s2 = 35*10 \n",
    "        lower_s2 = 10*10 \n",
    "        \n",
    "    for k in range(len(s1s2_peaks)):\n",
    "        if s1s2_peaks[k][0] == -1:\n",
    "            s1_bounds.append([-1,-1])\n",
    "            s2_bounds.append([-1,-1])\n",
    "        else:\n",
    "            s1_lower = s1s2_peaks[k][0]-lower_s1\n",
    "            s1_upper = s1s2_peaks[k][0]+upper_s1\n",
    "            s2_lower = s1s2_peaks[k][1]-lower_s2\n",
    "            s2_upper = s1s2_peaks[k][1]+upper_s2\n",
    "            if s1_lower < 0:\n",
    "                s1_lower = 0\n",
    "            if s2_lower < 0:\n",
    "                s2_lower = 0\n",
    "            if s1_upper >= len(data[0]):\n",
    "                s1_upper = len(data[0]) - 1\n",
    "            if s2_upper >= len(data[0]):\n",
    "                s2_upper = len(data[0]) - 1\n",
    "            s1_bounds.append([s1_lower, s1_upper])\n",
    "            s2_bounds.append([s2_lower, s2_upper])\n",
    "        \n",
    "    return np.array(s1_bounds), np.array(s2_bounds)"
   ]
  },
  {
   "cell_type": "code",
   "execution_count": 22,
   "id": "843c4e77",
   "metadata": {},
   "outputs": [],
   "source": [
    "#function for plotting class specific points of a feature\n",
    "def featurePlot(feat, set_name):\n",
    "    if set_name.upper() == 'A':\n",
    "        print(\"red=artifacts, blue=extrahls, purple=murmur, cyan=normal\")\n",
    "        for i in range(len(feat)):\n",
    "            if y_labelA[i] == 'artifact':\n",
    "                scatter(i,feat[i], c='r')\n",
    "            elif y_labelA[i] == 'extrahls':\n",
    "                scatter(i,feat[i], c='b')\n",
    "            elif y_labelA[i] == 'murmur':\n",
    "                scatter(i,feat[i], c='m')\n",
    "            elif y_labelA[i] == 'normal':\n",
    "                scatter(i,feat[i], c='c')\n",
    "        show()\n",
    "    else: \n",
    "        print(\"blue=extrastole, purple=murmur, cyan=normal\")\n",
    "        for i in range(len(feat)):\n",
    "            if y_labelB[i] == 'extrastole':\n",
    "                scatter(i,feat[i], c='k')\n",
    "            elif y_labelB[i] == 'murmur':\n",
    "                scatter(i,feat[i], c='m')\n",
    "            elif y_labelB[i] == 'normal':\n",
    "                scatter(i,feat[i], c='c')\n",
    "        show()\n",
    "    return\n",
    "\n",
    "#std deviation of specific interval where\n",
    "#lower is the left most bound of the interval, upper is right most bound\n",
    "def stdInterval(lower,low_index,upper,up_index, data):\n",
    "    std = []\n",
    "    for k in range(len(data)):\n",
    "        if lower[k][0] == -1:\n",
    "            std.append(0)\n",
    "        else:\n",
    "            dev = np.std(data[k][lower[k][low_index]:upper[k][up_index]])\n",
    "            if np.isnan(dev):\n",
    "                std.append(0)\n",
    "            else:  \n",
    "                std.append(dev)\n",
    "    return np.array(std)"
   ]
  },
  {
   "cell_type": "code",
   "execution_count": 21,
   "id": "2d43bb83",
   "metadata": {},
   "outputs": [
    {
     "name": "stdout",
     "output_type": "stream",
     "text": [
      "black=artifacts, green=extrahls, purple=murmur, cyan=normal\n"
     ]
    },
    {
     "data": {
      "image/png": "[encoded data removed]",
      "text/plain": [
       "<Figure size 432x288 with 1 Axes>"
      ]
     },
     "metadata": {
      "needs_background": "light"
     },
     "output_type": "display_data"
    },
    {
     "name": "stdout",
     "output_type": "stream",
     "text": [
      "black=artifacts, green=extrahls, purple=murmur, cyan=normal\n"
     ]
    },
    {
     "data": {
      "image/png": "[encoded data removed]",
      "text/plain": [
       "<Figure size 432x288 with 1 Axes>"
      ]
     },
     "metadata": {
      "needs_background": "light"
     },
     "output_type": "display_data"
    }
   ],
   "source": [
    "s1_boundsA, s2_boundsA = get_S1S2_bounds(x_dataA, dataA_peaks, 'A')\n",
    "s1_boundstA, s2_boundstA = get_S1S2_bounds(x_testdataA, testdataA_peaks, 'A')\n",
    "\n",
    "# Standard deviation of S1\n",
    "stdS1_A = stdInterval(s1_boundsA,0,s1_boundsA,1, x_dataA)\n",
    "stdS1_A = stdS1_A/max(stdS1_A)\n",
    "featurePlot(stdS1_A, 'A')\n",
    "stdS1_testA = stdInterval(s1_boundstA,0,s1_boundstA,1, x_testdataA)\n",
    "stdS1_testA = stdS1_testA/max(stdS1_testA)\n",
    "\n",
    "# Standard deviation of S2\n",
    "stdS2_A = stdInterval(s2_boundsA,0,s2_boundsA,1, x_dataA)\n",
    "stdS2_A = stdS2_A/max(stdS2_A)\n",
    "featurePlot(stdS2_A, 'A')\n",
    "stdS2_testA = stdInterval(s2_boundstA,0,s2_boundstA,1, x_testdataA)\n",
    "stdS2_testA = stdS2_testA/max(stdS2_testA)"
   ]
  },
  {
   "cell_type": "code",
   "execution_count": null,
   "id": "2ec41200",
   "metadata": {},
   "outputs": [],
   "source": []
  }
 ],
 "metadata": {
  "kernelspec": {
   "display_name": "Python 3",
   "language": "python",
   "name": "python3"
  },
  "language_info": {
   "codemirror_mode": {
    "name": "ipython",
    "version": 3
   },
   "file_extension": ".py",
   "mimetype": "text/x-python",
   "name": "python",
   "nbconvert_exporter": "python",
   "pygments_lexer": "ipython3",
   "version": "3.8.8"
  }
 },
 "nbformat": 4,
 "nbformat_minor": 5
}
